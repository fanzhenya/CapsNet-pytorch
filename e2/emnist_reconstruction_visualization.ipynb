{
 "cells": [
  {
   "cell_type": "code",
   "execution_count": 2,
   "metadata": {},
   "outputs": [],
   "source": [
    "import torch\n",
    "from torch.autograd import Variable\n",
    "from torchvision.datasets import MNIST\n",
    "from EMNIST import EMNIST\n",
    "from torchvision.transforms import ToTensor"
   ]
  },
  {
   "cell_type": "code",
   "execution_count": 3,
   "metadata": {},
   "outputs": [],
   "source": [
    "from net import CapsNetWithReconstruction, CapsNet, ReconstructionNet"
   ]
  },
  {
   "cell_type": "markdown",
   "metadata": {},
   "source": [
    "# Load model"
   ]
  },
  {
   "cell_type": "code",
   "execution_count": 4,
   "metadata": {},
   "outputs": [],
   "source": [
    "n_classes = 10\n",
    "# initialize network classes\n",
    "capsnet = CapsNet(3, n_classes=n_classes)\n",
    "reconstructionnet = ReconstructionNet(16, n_classes=n_classes)\n",
    "model = CapsNetWithReconstruction(capsnet, reconstructionnet)"
   ]
  },
  {
   "cell_type": "code",
   "execution_count": 22,
   "metadata": {},
   "outputs": [],
   "source": [
    "# Load trained model\n",
    "MODEL_PATH = '002_model_dict_3routing_reconstructionTrue.pth'\n",
    "model.load_state_dict(torch.load(MODEL_PATH))"
   ]
  },
  {
   "cell_type": "markdown",
   "metadata": {},
   "source": [
    "# Load MNIST test set"
   ]
  },
  {
   "cell_type": "code",
   "execution_count": 10,
   "metadata": {},
   "outputs": [],
   "source": [
    "dataset = EMNIST('../data2', \"digits\", train=False, transform=ToTensor())"
   ]
  },
  {
   "cell_type": "markdown",
   "metadata": {},
   "source": [
    "# Helper functions"
   ]
  },
  {
   "cell_type": "code",
   "execution_count": 23,
   "metadata": {},
   "outputs": [],
   "source": [
    "# (1x28x28 tensor input)\n",
    "def get_digit_caps(model, image):\n",
    "    input_ = Variable(image.unsqueeze(0), volatile=True)\n",
    "    digit_caps, probs = model.capsnet(input_)\n",
    "    return digit_caps\n",
    "\n",
    "# takes digit_caps output and target label\n",
    "def get_reconstruction(model, digit_caps, label):\n",
    "    target = Variable(torch.LongTensor([label]), volatile=True)\n",
    "    reconstruction = model.reconstruction_net(digit_caps, target)\n",
    "    return reconstruction.data.cpu().numpy()[0].reshape(28, 28)\n",
    "\n",
    "# create reconstructions with perturbed digit capsule\n",
    "def dimension_perturbation_reconstructions(model, digit_caps, label, dimension, dim_values):\n",
    "    reconstructions = []\n",
    "    for dim_value in dim_values:\n",
    "        digit_caps_perturbed = digit_caps.clone()\n",
    "        digit_caps_perturbed[0, label, dimension] = dim_value\n",
    "        reconstruction = get_reconstruction(model, digit_caps_perturbed, label)\n",
    "        reconstructions.append(reconstruction)\n",
    "    return reconstructions"
   ]
  },
  {
   "cell_type": "markdown",
   "metadata": {},
   "source": [
    "# Visualizations"
   ]
  },
  {
   "cell_type": "code",
   "execution_count": 8,
   "metadata": {},
   "outputs": [],
   "source": [
    "%matplotlib inline\n",
    "import matplotlib.pyplot as plt"
   ]
  },
  {
   "cell_type": "markdown",
   "metadata": {},
   "source": [
    "## Sample reconstructions"
   ]
  },
  {
   "cell_type": "code",
   "execution_count": 24,
   "metadata": {},
   "outputs": [],
   "source": [
    "# Get reconstructions\n",
    "images = []\n",
    "reconstructions = []\n",
    "for i in range(8):\n",
    "    image_tensor, label = dataset[i]\n",
    "    digit_caps = get_digit_caps(model, image_tensor)\n",
    "    reconstruction = get_reconstruction(model, digit_caps, label)\n",
    "    images.append(image_tensor.numpy()[0])\n",
    "    reconstructions.append(reconstruction)"
   ]
  },
  {
   "cell_type": "code",
   "execution_count": 25,
   "metadata": {},
   "outputs": [
    {
     "data": {
      "image/png": "[encoded data removed]",
      "text/plain": [
       "<matplotlib.figure.Figure at 0x7fd7a4aafd68>"
      ]
     },
     "metadata": {},
     "output_type": "display_data"
    }
   ],
   "source": [
    "# Plot reconstructions\n",
    "fig, axs = plt.subplots(2, 8, figsize=(16, 4))\n",
    "axs[0, 0].set_ylabel('Org image', size='large')\n",
    "axs[1, 0].set_ylabel('Reconstruction', size='large')\n",
    "for i in range(8):\n",
    "    axs[0, i].imshow(images[i].transpose(), cmap='gray')\n",
    "    axs[1, i].imshow(reconstructions[i].transpose(), cmap='gray')\n",
    "    axs[0, i].set_yticks([])\n",
    "    axs[0, i].set_xticks([])\n",
    "    axs[1, i].set_yticks([])\n",
    "    axs[1, i].set_xticks([])\n"
   ]
  },
  {
   "cell_type": "markdown",
   "metadata": {},
   "source": [
    "## What the individual dimensions of a capsule represent\n",
    "We can visualize what an individual dimension of a capsule represents by perturbing values of each dimension (sec. 5.1. of the paper, figure 4).  \n",
    "Each row shows the reconstruction when one of the 16 dimensions in the DigitCaps representation is tweaked by intervals of 0.05 in the range [−0.25, 0.25]."
   ]
  },
  {
   "cell_type": "code",
   "execution_count": 34,
   "metadata": {},
   "outputs": [],
   "source": [
    "digit, label = dataset[4]\n",
    "perturbed_reconstructions = []\n",
    "perturbation_values = [0.1*i for i in range(-5, 6)]\n",
    "digit_caps = get_digit_caps(model, digit)\n",
    "for dimension in range(16):\n",
    "    perturbed_reconstructions.append(\n",
    "        dimension_perturbation_reconstructions(model, digit_caps, label,\n",
    "                                               dimension, perturbation_values)\n",
    "    )"
   ]
  },
  {
   "cell_type": "code",
   "execution_count": null,
   "metadata": {},
   "outputs": [],
   "source": [
    "fig, axs = plt.subplots(16, 11, figsize=(11*1.5, 16*1.5))\n",
    "for i in range(16):\n",
    "    axs[i, 0].set_ylabel('dim {}'.format(i), size='large')\n",
    "    for j in range(11):\n",
    "        axs[i, j].imshow(perturbed_reconstructions[i][j].transpose(), cmap='gray')\n",
    "        axs[i, j].set_yticks([])\n",
    "        axs[i, j].set_xticks([])\n",
    "        "
   ]
  },
  {
   "cell_type": "markdown",
   "metadata": {},
   "source": [
    "We can see what individual dimensions represent for digit 7,  e.g. dim6 - stroke thickness, dim11 - digit width, dim 15 - vertical shift"
   ]
  },
  {
   "cell_type": "code",
   "execution_count": null,
   "metadata": {},
   "outputs": [],
   "source": []
  }
 ],
 "metadata": {
  "kernelspec": {
   "display_name": "Environment (conda_pytorch_p36)",
   "language": "python",
   "name": "conda_pytorch_p36"
  },
  "language_info": {
   "codemirror_mode": {
    "name": "ipython",
    "version": 3
   },
   "file_extension": ".py",
   "mimetype": "text/x-python",
   "name": "python",
   "nbconvert_exporter": "python",
   "pygments_lexer": "ipython3",
   "version": "3.6.3"
  }
 },
 "nbformat": 4,
 "nbformat_minor": 2
}
