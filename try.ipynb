{
 "cells": [
  {
   "cell_type": "code",
   "execution_count": 23,
   "metadata": {},
   "outputs": [],
   "source": [
    "from torchvision.datasets.mnist import MNIST\n",
    "from torchvision import datasets, transforms\n",
    "\n",
    "from EMNIST import EMNIST\n",
    "%matplotlib inline\n",
    "import matplotlib.pyplot as plt\n",
    "import numpy as np"
   ]
  },
  {
   "cell_type": "code",
   "execution_count": 35,
   "metadata": {},
   "outputs": [],
   "source": [
    "mn = MNIST('../data', train=True, download=True)\n",
    "emn = EMNIST('../data2', \"balanced\", train=True, download=True)"
   ]
  },
  {
   "cell_type": "code",
   "execution_count": 4,
   "metadata": {},
   "outputs": [
    {
     "name": "stdout",
     "output_type": "stream",
     "text": [
      "(<PIL.Image.Image image mode=L size=28x28 at 0x7F36B286CE10>, 0)\n",
      "(<PIL.Image.Image image mode=L size=28x28 at 0x7F36B286CEF0>, 1)\n"
     ]
    }
   ],
   "source": [
    "print(mn[1])\n",
    "print(emn[1])"
   ]
  },
  {
   "cell_type": "code",
   "execution_count": 18,
   "metadata": {},
   "outputs": [
    {
     "data": {
      "text/plain": [
       "<matplotlib.image.AxesImage at 0x7f36a975be80>"
      ]
     },
     "execution_count": 18,
     "metadata": {},
     "output_type": "execute_result"
    },
    {
     "data": {
      "image/png": "[encoded data removed]",
      "text/plain": [
       "<matplotlib.figure.Figure at 0x7f36a97e2128>"
      ]
     },
     "metadata": {},
     "output_type": "display_data"
    }
   ],
   "source": [
    "plt.imshow(np.asarray(mn[1][0]), cmap='gray')"
   ]
  },
  {
   "cell_type": "code",
   "execution_count": 56,
   "metadata": {},
   "outputs": [
    {
     "name": "stdout",
     "output_type": "stream",
     "text": [
      "X\n",
      "h\n",
      "5\n",
      "d\n",
      "U\n",
      "r\n",
      "d\n",
      "Y\n"
     ]
    },
    {
     "data": {
      "image/png": "[encoded data removed]",
      "text/plain": [
       "<matplotlib.figure.Figure at 0x7f36a2f23d68>"
      ]
     },
     "metadata": {},
     "output_type": "display_data"
    }
   ],
   "source": [
    "images = []\n",
    "images2 = []\n",
    "offset = 100\n",
    "\n",
    "LABEL_STR = []\n",
    "for l in range(ord('0'), ord('9') + 1):\n",
    "    LABEL_STR.append(chr(l))\n",
    "for l in range(ord('A'), ord('Z') + 1):\n",
    "    LABEL_STR.append(chr(l))\n",
    "for l in range(ord('a'), ord('z') + 1):\n",
    "    if chr(l).upper() in \"CIJKLMOPSUVWXYZ\":\n",
    "        continue\n",
    "    LABEL_STR.append(chr(l))\n",
    "\n",
    "for i in range(8):\n",
    "    image_tensor, label = mn[offset + i]\n",
    "    images.append(image_tensor)\n",
    "    image_tensor, label = emn[offset + i]\n",
    "    images2.append(image_tensor)\n",
    "    print(LABEL_STR[label])\n",
    "\n",
    "# Plot reconstructions\n",
    "fig, axs = plt.subplots(2, 8, figsize=(16, 4))\n",
    "axs[0, 0].set_ylabel('MNIST', size='large')\n",
    "axs[1, 0].set_ylabel('EMNIST', size='large')\n",
    "\n",
    "for i in range(8):\n",
    "    axs[0, i].imshow(np.asarray(images[i]), cmap='gray')\n",
    "    axs[1, i].imshow(np.asarray(images2[i]).transpose(), cmap='gray')\n",
    "    axs[0, i].set_yticks([])\n",
    "    axs[0, i].set_xticks([])\n",
    "    axs[1, i].set_yticks([])\n",
    "    axs[1, i].set_xticks([])\n"
   ]
  }
 ],
 "metadata": {
  "kernelspec": {
   "display_name": "Environment (conda_pytorch_p36)",
   "language": "python",
   "name": "conda_pytorch_p36"
  },
  "language_info": {
   "codemirror_mode": {
    "name": "ipython",
    "version": 3
   },
   "file_extension": ".py",
   "mimetype": "text/x-python",
   "name": "python",
   "nbconvert_exporter": "python",
   "pygments_lexer": "ipython3",
   "version": "3.6.3"
  }
 },
 "nbformat": 4,
 "nbformat_minor": 2
}
